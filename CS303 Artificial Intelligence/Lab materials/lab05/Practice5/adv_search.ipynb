{
 "cells": [
  {
   "cell_type": "markdown",
   "metadata": {},
   "source": [
    "# [CS303]Practice 5 - Adversarial Search\n",
    "For this practice, work on the `TODO` sections in the provided code to make the program run correctly.\n",
    "\n",
    "                                                                                                      \n",
    "### DDL: Nov.2\n",
    "* The practice will be checked in this lab class or the next lab class before the DDL by teachers or SAs.\n",
    "\n",
    "#### What will be tested: \n",
    "* That you understand every line of your code, not just copy from somewhere \n",
    "* That your program compiles correctly\n",
    "* Correctness of the program logic \n",
    "* That the result is obtained in a reasonable time \n",
    "\n",
    "#### Grading: \n",
    "* Submissions on time: 60-100 points.\n",
    "* Late submissions  : 0 points. "
   ]
  },
  {
   "cell_type": "code",
   "execution_count": 11,
   "metadata": {},
   "outputs": [],
   "source": [
    "from game import TicTacToe\n",
    "import random\n",
    "import math\n",
    "import time\n",
    "infinity = math.inf"
   ]
  },
  {
   "cell_type": "markdown",
   "metadata": {},
   "source": [
    "# 1. Getting Started with the Game"
   ]
  },
  {
   "cell_type": "code",
   "execution_count": 12,
   "metadata": {},
   "outputs": [
    {
     "name": "stdout",
     "output_type": "stream",
     "text": [
      ". . .\n",
      ". . .\n",
      ". . .\n",
      "\n",
      "{(0, 1), (1, 2), (2, 1), (0, 0), (1, 1), (2, 0), (0, 2), (2, 2), (1, 0)}\n",
      ". . .\n",
      "X . .\n",
      ". . .\n",
      "\n"
     ]
    }
   ],
   "source": [
    "# initializing a TicTacToe game\n",
    "game = TicTacToe(height=3, width=3, k=3)\n",
    "board = game.initial\n",
    "# get the possible actions\n",
    "actions = game.actions(board)\n",
    "# to apply a move (the board automatically figures out which player)\n",
    "board_after_move = game.result(board, list(actions)[0])\n",
    "\n",
    "print(board)\n",
    "print(actions)\n",
    "print(board_after_move)"
   ]
  },
  {
   "cell_type": "code",
   "execution_count": 13,
   "metadata": {},
   "outputs": [],
   "source": [
    "def play_game_step(game, state, strategies: dict, verbose=False):\n",
    "    start = time.perf_counter()\n",
    "    player = state.to_move\n",
    "    move = strategies[player](game, state)\n",
    "    state = game.result(state, move)\n",
    "    time_elapsed = time.perf_counter() - start\n",
    "    if verbose: \n",
    "        print('Player', player, 'move:', move, f'time: {time_elapsed:.4f}s', )\n",
    "        print(state)\n",
    "    return state\n",
    "\n",
    "def play_game(game, strategies: dict, verbose=False):\n",
    "    \"\"\"Play a turn-taking game. `strategies` is a {player_name: function} dict,\n",
    "    where function(state, game) is used to get the player's move.\"\"\"\n",
    "    state = game.initial\n",
    "    while not game.is_terminal(state):\n",
    "        state = play_game_step(game, state, strategies, verbose)\n",
    "    return state\n",
    "\n",
    "# setup a random strategy for testing\n",
    "def random_player(game, state): return random.choice(list(game.actions(state)))\n",
    "\n",
    "def search_player(search_algorithm):\n",
    "    \"\"\"A game player who uses the specified search algorithm\"\"\"\n",
    "    return lambda game, state: search_algorithm(game, state)[1] # we expect our search algorithm to return (v, move)"
   ]
  },
  {
   "cell_type": "code",
   "execution_count": 14,
   "metadata": {},
   "outputs": [],
   "source": [
    "# initialize a game\n",
    "game = TicTacToe()\n",
    "state = game.initial\n",
    "strategies = dict(X=random_player, O=random_player)"
   ]
  },
  {
   "cell_type": "code",
   "execution_count": 15,
   "metadata": {},
   "outputs": [
    {
     "name": "stdout",
     "output_type": "stream",
     "text": [
      "Player X move: (2, 0) time: 0.0000s\n",
      ". . X\n",
      ". . .\n",
      ". . .\n",
      "\n"
     ]
    }
   ],
   "source": [
    "# option 1: \n",
    "# play_game(game, strategies, True)\n",
    "\n",
    "# option 2: run it step by step by executing this cell multiple times until the game end\n",
    "if not game.is_terminal(state):\n",
    "    state = play_game_step(game, state, strategies, True)\n",
    "else:\n",
    "    print(f\"Game result: {game.utility(state, 'X')}\")\n",
    "    print(state)"
   ]
  },
  {
   "cell_type": "markdown",
   "metadata": {},
   "source": [
    "# 2. MINIMAX and Alpha-Beta "
   ]
  },
  {
   "cell_type": "markdown",
   "metadata": {},
   "source": [
    "### MINIMAX-DECISION and EXPECTIMINIMAX\n",
    "\n",
    "__function__ MINIMAX-DECISION(_state_) __returns__ _an action_  \n",
    "&emsp;__return__ arg max<sub> _a_ &Element; ACTIONS(_s_)</sub> MIN\\-VALUE(RESULT(_state_, _a_))  \n",
    "\n",
    "---\n",
    "__function__ MAX\\-VALUE(_state_) __returns__ _a utility value_  \n",
    "&emsp;__if__ TERMINAL\\-TEST(_state_) __then return__ UTILITY(_state_)  \n",
    "&emsp;_v_ &larr; &minus;&infin;  \n",
    "&emsp;__for each__ _a_ __in__ ACTIONS(_state_) __do__  \n",
    "&emsp;&emsp;&emsp;_v_ &larr; MAX(_v_, MIN\\-VALUE(RESULT(_state_, _a_)))  \n",
    "&emsp;__return__ _v_  \n",
    "\n",
    "---\n",
    "__function__ MIN\\-VALUE(_state_) __returns__ _a utility value_  \n",
    "&emsp;__if__ TERMINAL\\-TEST(_state_) __then return__ UTILITY(_state_)  \n",
    "&emsp;_v_ &larr; &infin;  \n",
    "&emsp;__for each__ _a_ __in__ ACTIONS(_state_) __do__  \n",
    "&emsp;&emsp;&emsp;_v_ &larr; MIN(_v_, MAX\\-VALUE(RESULT(_state_, _a_)))  \n",
    "&emsp;__return__ _v_  \n",
    "\n",
    "---\n",
    "__function__ EXPECTIMINIMAX(_s_) =     \n",
    "&emsp;UTILITY(_s_) __if__ TERMINAL\\-TEST(_s_)  \n",
    "&emsp;max<sub>_a_</sub> EXPECTIMINIMAX(RESULT(_s, a_)) __if__ PLAYER(_s_)= MAX  \n",
    "&emsp;min<sub>_a_</sub> EXPECTIMINIMAX(RESULT(_s, a_)) __if__ PLAYER(_s_)= MIN  \n",
    "&emsp;∑<sub>_r_</sub> P(_r_) EXPECTIMINIMAX(RESULT(_s, r_)) __if__ PLAYER(_s_)= CHANCE  \n"
   ]
  },
  {
   "cell_type": "code",
   "execution_count": 16,
   "metadata": {},
   "outputs": [
    {
     "name": "stdout",
     "output_type": "stream",
     "text": [
      "Player X move: (0, 1) time: 3.3214s\n",
      ". . .\n",
      "X . .\n",
      ". . .\n",
      "\n",
      "Player O move: (1, 2) time: 0.0000s\n",
      ". . .\n",
      "X . .\n",
      ". O .\n",
      "\n",
      "Player X move: (1, 1) time: 0.0430s\n",
      ". . .\n",
      "X X .\n",
      ". O .\n",
      "\n",
      "Player O move: (2, 0) time: 0.0000s\n",
      ". . O\n",
      "X X .\n",
      ". O .\n",
      "\n",
      "Player X move: (2, 1) time: 0.0008s\n",
      ". . O\n",
      "X X X\n",
      ". O .\n",
      "\n",
      "CPU times: user 3.26 s, sys: 22.8 ms, total: 3.28 s\n",
      "Wall time: 3.37 s\n"
     ]
    },
    {
     "data": {
      "text/plain": [
       ". . O\n",
       "X X X\n",
       ". O ."
      ]
     },
     "execution_count": 16,
     "metadata": {},
     "output_type": "execute_result"
    }
   ],
   "source": [
    "def minimax_search(game, state):\n",
    "    \"\"\"Search game tree to determine best move; return (value, move) pair.\"\"\"\n",
    "\n",
    "    player = state.to_move\n",
    "\n",
    "    def max_value(state):\n",
    "        if game.is_terminal(state):\n",
    "            return game.utility(state, player), None\n",
    "        v, move = -infinity, None\n",
    "        for a in game.actions(state):\n",
    "            v2, _ = min_value(game.result(state, a))\n",
    "            # TODO: decide *v* and *move*\n",
    "            if v2 > v:\n",
    "                v = v2\n",
    "                move = a\n",
    "        return v, move\n",
    "\n",
    "    def min_value(state):\n",
    "        # TODO: implement function min_value\n",
    "        if game.is_terminal(state):\n",
    "            return game.utility(state, player), None\n",
    "        v, move = infinity, None\n",
    "        for a in game.actions(state):\n",
    "            v2, _ = max_value(game.result(state, a))\n",
    "            if v2 < v:\n",
    "                v = v2\n",
    "                move = a\n",
    "        return v, move\n",
    "\n",
    "    return max_value(state)\n",
    "\n",
    "# test against random_player\n",
    "%time play_game(TicTacToe(), dict(X=search_player(minimax_search), O=random_player), True)"
   ]
  },
  {
   "cell_type": "code",
   "execution_count": 17,
   "metadata": {},
   "outputs": [
    {
     "name": "stdout",
     "output_type": "stream",
     "text": [
      "Player X move: (0, 1) time: 3.1752s\n",
      ". . .\n",
      "X . .\n",
      ". . .\n",
      "\n",
      "Player O move: (2, 1) time: 0.3712s\n",
      ". . .\n",
      "X . O\n",
      ". . .\n",
      "\n",
      "Player X move: (1, 2) time: 0.0557s\n",
      ". . .\n",
      "X . O\n",
      ". X .\n",
      "\n",
      "Player O move: (0, 0) time: 0.0083s\n",
      "O . .\n",
      "X . O\n",
      ". X .\n",
      "\n",
      "Player X move: (1, 1) time: 0.0015s\n",
      "O . .\n",
      "X X O\n",
      ". X .\n",
      "\n",
      "Player O move: (1, 0) time: 0.0002s\n",
      "O O .\n",
      "X X O\n",
      ". X .\n",
      "\n",
      "Player X move: (2, 0) time: 0.0002s\n",
      "O O X\n",
      "X X O\n",
      ". X .\n",
      "\n",
      "Player O move: (0, 2) time: 0.0000s\n",
      "O O X\n",
      "X X O\n",
      "O X .\n",
      "\n",
      "Player X move: (2, 2) time: 0.0000s\n",
      "O O X\n",
      "X X O\n",
      "O X X\n",
      "\n",
      "CPU times: user 3.6 s, sys: 10.7 ms, total: 3.61 s\n",
      "Wall time: 3.61 s\n"
     ]
    },
    {
     "data": {
      "text/plain": [
       "O O X\n",
       "X X O\n",
       "O X X"
      ]
     },
     "execution_count": 17,
     "metadata": {},
     "output_type": "execute_result"
    }
   ],
   "source": [
    "# if you have implemented it right, it will always be a draw for h=w=k=3\n",
    "%time play_game(TicTacToe(), dict(X=search_player(minimax_search), O=search_player(minimax_search)), True)"
   ]
  },
  {
   "cell_type": "markdown",
   "metadata": {},
   "source": [
    "### ALPHA-BETA-SEARCH\n",
    "\n",
    "__function__ ALPHA-BETA-SEARCH(_state_) __returns__ an action  \n",
    "&emsp;_v_ &larr; MAX\\-VALUE(_state_, &minus;&infin;, &plus;&infin;)  \n",
    "&emsp;__return__ the _action_ in ACTIONS(_state_) with value _v_  \n",
    "\n",
    "---\n",
    "__function__ MAX\\-VALUE(_state_, _&alpha;_, _&beta;_) __returns__ _a utility value_  \n",
    "&emsp;__if__ TERMINAL\\-TEST(_state_) __then return__ UTILITY(_state_)  \n",
    "&emsp;_v_ &larr; &minus;&infin;  \n",
    "&emsp;__for each__ _a_ __in__ ACTIONS(_state_) __do__  \n",
    "&emsp;&emsp;&emsp;_v_ &larr; MAX(_v_, MIN\\-VALUE(RESULT(_state_, _a_), _&alpha;_, _&beta;_))  \n",
    "&emsp;&emsp;&emsp;__if__ _v_ &ge; _&beta;_ __then return__ _v_  \n",
    "&emsp;&emsp;&emsp;_&alpha;_ &larr; MAX(_&alpha;_, _v_)  \n",
    "&emsp;__return__ _v_  \n",
    "\n",
    "---\n",
    "__function__ MIN\\-VALUE(_state_, _&alpha;_, _&beta;_) __returns__ _a utility value_  \n",
    "&emsp;__if__ TERMINAL\\-TEST(_state_) __then return__ UTILITY(_state_)  \n",
    "&emsp;_v_ &larr; &plus;&infin;  \n",
    "&emsp;__for each__ _a_ __in__ ACTIONS(_state_) __do__  \n",
    "&emsp;&emsp;&emsp;_v_ &larr; MIN(_v_, MAX\\-VALUE(RESULT(_state_, _a_), _&alpha;_, _&beta;_))  \n",
    "&emsp;&emsp;&emsp;__if__ _v_ &le; _&alpha;_ __then return__ _v_  \n",
    "&emsp;&emsp;&emsp;_&beta;_ &larr; MIN(_&beta;_, _v_)  \n",
    "&emsp;__return__ _v_  \n"
   ]
  },
  {
   "cell_type": "code",
   "execution_count": 18,
   "metadata": {},
   "outputs": [
    {
     "name": "stdout",
     "output_type": "stream",
     "text": [
      "Player X move: (0, 1) time: 0.1432s\n",
      ". . .\n",
      "X . .\n",
      ". . .\n",
      "\n",
      "Player O move: (1, 2) time: 0.0000s\n",
      ". . .\n",
      "X . .\n",
      ". O .\n",
      "\n",
      "Player X move: (1, 1) time: 0.0030s\n",
      ". . .\n",
      "X X .\n",
      ". O .\n",
      "\n",
      "Player O move: (2, 2) time: 0.0000s\n",
      ". . .\n",
      "X X .\n",
      ". O O\n",
      "\n",
      "Player X move: (2, 1) time: 0.0001s\n",
      ". . .\n",
      "X X X\n",
      ". O O\n",
      "\n",
      "CPU times: user 145 ms, sys: 1.86 ms, total: 147 ms\n",
      "Wall time: 147 ms\n"
     ]
    },
    {
     "data": {
      "text/plain": [
       ". . .\n",
       "X X X\n",
       ". O O"
      ]
     },
     "execution_count": 18,
     "metadata": {},
     "output_type": "execute_result"
    }
   ],
   "source": [
    "def alphabeta_search(game, state):\n",
    "    \"\"\"Search game to determine best action; use alpha-beta pruning.\n",
    "    As in [Figure 5.7], this version searches all the way to the leaves.\"\"\"\n",
    "\n",
    "    player = state.to_move\n",
    "\n",
    "    def max_value(state, alpha, beta):\n",
    "        if game.is_terminal(state):\n",
    "            return game.utility(state, player), None\n",
    "        v, move = -infinity, None\n",
    "        for a in game.actions(state):\n",
    "            v2, _ = min_value(game.result(state, a), alpha, beta)\n",
    "            # TODO: update alpha, beta pruning, decide *v* and *move*\n",
    "            if v2 > v:\n",
    "                v = v2\n",
    "                move = a\n",
    "            if v >= beta:\n",
    "                return v, move\n",
    "            alpha = max(alpha, v)\n",
    "        return v, move\n",
    "\n",
    "    def min_value(state, alpha, beta):\n",
    "        # TODO: implement function min_value\n",
    "        if game.is_terminal(state):\n",
    "            return game.utility(state, player), None\n",
    "        v, move = infinity, None\n",
    "        for a in game.actions(state):\n",
    "            v2, _ = max_value(game.result(state, a), alpha, beta)\n",
    "            if v2 < v:\n",
    "                v = v2\n",
    "                move = a\n",
    "            if v <= alpha:\n",
    "                return v, move\n",
    "            beta = min(beta, v)\n",
    "        return v, move\n",
    "\n",
    "    return max_value(state, -infinity, +infinity)\n",
    "\n",
    "# test against random_player\n",
    "%time play_game(TicTacToe(), dict(X=search_player(alphabeta_search), O=random_player), True)"
   ]
  },
  {
   "cell_type": "code",
   "execution_count": 19,
   "metadata": {},
   "outputs": [
    {
     "name": "stdout",
     "output_type": "stream",
     "text": [
      "Player X move: (0, 1) time: 0.1431s\n",
      ". . .\n",
      "X . .\n",
      ". . .\n",
      "\n",
      "Player O move: (2, 1) time: 0.0244s\n",
      ". . .\n",
      "X . O\n",
      ". . .\n",
      "\n",
      "Player X move: (1, 2) time: 0.0081s\n",
      ". . .\n",
      "X . O\n",
      ". X .\n",
      "\n",
      "Player O move: (0, 0) time: 0.0023s\n",
      "O . .\n",
      "X . O\n",
      ". X .\n",
      "\n",
      "Player X move: (1, 1) time: 0.0009s\n",
      "O . .\n",
      "X X O\n",
      ". X .\n",
      "\n",
      "Player O move: (1, 0) time: 0.0001s\n",
      "O O .\n",
      "X X O\n",
      ". X .\n",
      "\n",
      "Player X move: (2, 0) time: 0.0001s\n",
      "O O X\n",
      "X X O\n",
      ". X .\n",
      "\n",
      "Player O move: (0, 2) time: 0.0000s\n",
      "O O X\n",
      "X X O\n",
      "O X .\n",
      "\n",
      "Player X move: (2, 2) time: 0.0000s\n",
      "O O X\n",
      "X X O\n",
      "O X X\n",
      "\n",
      "CPU times: user 178 ms, sys: 1.84 ms, total: 180 ms\n",
      "Wall time: 180 ms\n"
     ]
    },
    {
     "data": {
      "text/plain": [
       "O O X\n",
       "X X O\n",
       "O X X"
      ]
     },
     "execution_count": 19,
     "metadata": {},
     "output_type": "execute_result"
    }
   ],
   "source": [
    "%time play_game(TicTacToe(), dict(X=search_player(alphabeta_search), O=search_player(alphabeta_search)), True)"
   ]
  },
  {
   "cell_type": "markdown",
   "metadata": {},
   "source": [
    "# 3. Heuristic Cutoffs (Optional)"
   ]
  },
  {
   "cell_type": "code",
   "execution_count": 20,
   "metadata": {},
   "outputs": [
    {
     "name": "stdout",
     "output_type": "stream",
     "text": [
      "Player X move: (0, 1) time: 0.1463s\n",
      ". . .\n",
      "X . .\n",
      ". . .\n",
      "\n",
      "Player O move: (0, 0) time: 0.0000s\n",
      "O . .\n",
      "X . .\n",
      ". . .\n",
      "\n",
      "Player X move: (1, 1) time: 0.0077s\n",
      "O . .\n",
      "X X .\n",
      ". . .\n",
      "\n",
      "Player O move: (2, 1) time: 0.0000s\n",
      "O . .\n",
      "X X O\n",
      ". . .\n",
      "\n",
      "Player X move: (1, 2) time: 0.0006s\n",
      "O . .\n",
      "X X O\n",
      ". X .\n",
      "\n",
      "Player O move: (2, 2) time: 0.0000s\n",
      "O . .\n",
      "X X O\n",
      ". X O\n",
      "\n",
      "Player X move: (1, 0) time: 0.0000s\n",
      "O X .\n",
      "X X O\n",
      ". X O\n",
      "\n",
      "CPU times: user 153 ms, sys: 1.65 ms, total: 155 ms\n",
      "Wall time: 155 ms\n"
     ]
    },
    {
     "data": {
      "text/plain": [
       "O X .\n",
       "X X O\n",
       ". X O"
      ]
     },
     "execution_count": 20,
     "metadata": {},
     "output_type": "execute_result"
    }
   ],
   "source": [
    "def cutoff_depth(d):\n",
    "    \"\"\"A cutoff function that searches to depth d.\"\"\"\n",
    "    return lambda game, state, depth: depth > d\n",
    "\n",
    "def h_alphabeta_search(cutoff=cutoff_depth(6), h=lambda s, p: 0):\n",
    "    def search(game, state):\n",
    "        \"\"\"\n",
    "        Search game to determine best action; use alpha-beta pruning.\n",
    "        As in [Figure 5.7], this version searches all the way to the leaves.\n",
    "        TODO: add checks for *cutoff* and return *h* at proper locations\n",
    "        \"\"\"\n",
    "\n",
    "        player = state.to_move\n",
    "\n",
    "        def max_value(state, alpha, beta, depth):\n",
    "            if game.is_terminal(state):\n",
    "                return game.utility(state, player), None\n",
    "            \n",
    "            if cutoff(game, state, depth):\n",
    "                return h(state, player), None\n",
    "\n",
    "            v, move = -infinity, None\n",
    "            for a in game.actions(state):\n",
    "                v2, _ = min_value(game.result(state, a), alpha, beta, depth+1)\n",
    "                # TODO: update alpha, beta pruning, decide *v* and *move*\n",
    "                if v2 > v:\n",
    "                    v = v2\n",
    "                    move = a\n",
    "                if v >= beta:\n",
    "                    return v, move\n",
    "                alpha = max(alpha, v)\n",
    "            return v, move\n",
    "\n",
    "        def min_value(state, alpha, beta, depth):\n",
    "            # TODO: implement function min_value\n",
    "            if game.is_terminal(state):\n",
    "                return game.utility(state, player), None\n",
    "            if cutoff(game, state, depth):\n",
    "                return h(state, player), None\n",
    "            v, move = infinity, None\n",
    "            for a in game.actions(state):\n",
    "                v2, _ = max_value(game.result(state, a), alpha, beta, depth+1)\n",
    "                if v2 < v:\n",
    "                    v = v2\n",
    "                    move = a\n",
    "                if v <= alpha:\n",
    "                    return v, move\n",
    "                beta = min(beta, v)\n",
    "            return v, move\n",
    "\n",
    "        return max_value(state, -infinity, +infinity, 0)\n",
    "    return search\n",
    "\n",
    "# plug in your own *h* and see its performance against a random player\n",
    "game = TicTacToe()\n",
    "\n",
    "# I'll just cheat with the true utility for a demo (won't work when the tree is deeper)\n",
    "h = lambda s, p: game.utility(s, p) \n",
    "cutoff = cutoff_depth(9)\n",
    "\n",
    "%time play_game(game, {'X':search_player(h_alphabeta_search(cutoff=cutoff, h=h)), 'O':random_player}, True)"
   ]
  },
  {
   "cell_type": "markdown",
   "metadata": {},
   "source": [
    "# 4. Further Hints on Project\n",
    "\n",
    "* Be **absolutely sure** that you are not maximizing your opponent's utility!\n",
    "* Code optimization: the performance of a python program greatly depends on its implementation. Write your code to be as efficient as possible and maybe search for performance hacks!"
   ]
  }
 ],
 "metadata": {
  "kernelspec": {
   "display_name": "Python 3",
   "language": "python",
   "name": "python3"
  },
  "language_info": {
   "codemirror_mode": {
    "name": "ipython",
    "version": 3
   },
   "file_extension": ".py",
   "mimetype": "text/x-python",
   "name": "python",
   "nbconvert_exporter": "python",
   "pygments_lexer": "ipython3",
   "version": "3.12.4"
  }
 },
 "nbformat": 4,
 "nbformat_minor": 4
}
