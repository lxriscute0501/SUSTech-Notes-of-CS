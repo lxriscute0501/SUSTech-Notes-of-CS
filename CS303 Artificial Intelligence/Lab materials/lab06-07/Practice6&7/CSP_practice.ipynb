{
 "cells": [
  {
   "cell_type": "markdown",
   "id": "f0ab60ef",
   "metadata": {},
   "source": [
    "# [CS303]Practice 6 - BTS & Practice 7 - Improving BTS\n",
    "In Practice 6 and 7, we will apply the BTS algorithm and the Improving BTS to solve the N-Queens problem.\n",
    "\n",
    "In the following code, only two of the function usages are essential. One is `is_valid(self, state)`, which checks if the current state is legal; the other is `is_satisfy(self, state)`, which is to checks if the current board meets the win condition. \n",
    "The type of state is [], which stores the tuples(a, b), representing the positions of the queens in it.\n",
    "\n",
    "In test block, for `Solver`,  `n` indicates the size of the test while `method` indicates which bts function will be used(`bts` or `improving_bts`); for method `solve`, `render` indicates whether to use a graphical interface representation.\n",
    "\n",
    "## Practice 6 - BTS\n",
    "You are required to implement complete the function `bts()`.\n",
    "You can only use iterative way, not recursive. Using recursion will incur a **20% penalty**. You may add any function you want. \n",
    "**Remember to test the case where N=6**.\n",
    "\n",
    "📌 **DDL: Nov.9th**\n",
    "\n",
    "## Practice 7 - Improving BTS\n",
    "You are required to complete the function `improving_bts()`.\n",
    "For `improving_bts()`, you can use one or more of the following strategies: Minimum Remaining Value, Least constraining value, and Forward checking. You should have a good performance (within 2s) **when N = 16 without GUI**. \n",
    "\n",
    "📌 **DDL: Nov.16th**\n",
    "\n",
    "## Evaluation Criteria\n",
    "\n",
    "Your submission will be assessed on:\n",
    "\n",
    "* Clear understanding of every line of your code (no blind copy-paste).\n",
    "* Successful compilation of the program.\n",
    "* Correctness of the program logic.\n",
    "* Reasonable efficiency of the solution.\n",
    "\n",
    "### Grading Policy\n",
    "\n",
    "* **On-time submission:** 60–100 points\n",
    "* **Late submission:** 0 points\n"
   ]
  },
  {
   "cell_type": "code",
   "execution_count": 194,
   "id": "4afb24f8",
   "metadata": {
    "pycharm": {
     "name": ""
    }
   },
   "outputs": [],
   "source": [
    "import numpy as np\n",
    "import time\n",
    "\n",
    "def my_range(start, end):\n",
    "    if start <= end:\n",
    "        return range(start, end + 1)\n",
    "    else:\n",
    "        return range(start, end - 1, -1)\n",
    "\n",
    "\n",
    "class Problem:\n",
    "    char_mapping = ('·', 'Q')\n",
    "\n",
    "    def __init__(self, n=4):\n",
    "        self.N = n\n",
    "\n",
    "    def is_valid(self, state):\n",
    "        \"\"\"\n",
    "        check whether the state satisfies the condition or not.\n",
    "        : param state: list of points (in (row id, col id) tuple form)\n",
    "        : return: bool value of valid or not\n",
    "        \"\"\"\n",
    "        board = self.get_board(state)\n",
    "        res = True\n",
    "        for point in state:\n",
    "            i, j = point\n",
    "            condition1 = board[:, j].sum() <= 1\n",
    "            condition2 = board[i, :].sum() <= 1\n",
    "            condition3 = self.pos_slant_condition(board, point)\n",
    "            condition4 = self.neg_slant_condition(board, point)\n",
    "            res = res and condition1 and condition2 and condition3 and condition4\n",
    "            if not res:\n",
    "                break\n",
    "        return res\n",
    "\n",
    "    def is_satisfy(self, state):\n",
    "        return self.is_valid(state) and len(state) == self.N\n",
    "\n",
    "    def pos_slant_condition(self, board, point):\n",
    "        i, j = point\n",
    "        tmp = min(self.N - i - 1, j)\n",
    "        start = (i + tmp, j - tmp)\n",
    "        tmp = min(i, self.N - j - 1)\n",
    "        end = (i - tmp,  j + tmp)\n",
    "        rows = my_range(start[0], end[0])\n",
    "        cols = my_range(start[1], end[1])\n",
    "        return board[rows, cols].sum() <= 1\n",
    "\n",
    "    def neg_slant_condition(self, board, point):\n",
    "        i, j = point\n",
    "        tmp = min(i, j)\n",
    "        start = (i - tmp, j - tmp)\n",
    "        tmp = min(self.N - i - 1, self.N - j - 1)\n",
    "        end = (i + tmp, j + tmp)\n",
    "        rows = my_range(start[0], end[0])\n",
    "        cols = my_range(start[1], end[1])\n",
    "        return board[rows, cols].sum() <= 1\n",
    "\n",
    "    def get_board(self, state):\n",
    "        board = np.zeros([self.N, self.N], dtype=int)\n",
    "        for point in state:\n",
    "            board[point] = 1\n",
    "        return board\n",
    "\n",
    "    def print_state(self, state):\n",
    "        board = self.get_board(state)\n",
    "        print('_' * (2 * self.N + 1))\n",
    "        for row in board:\n",
    "            for item in row:\n",
    "                print(f'|{Problem.char_mapping[item]}', end='')\n",
    "            print('|')\n",
    "        print('-' * (2 * self.N + 1))"
   ]
  },
  {
   "cell_type": "code",
   "execution_count": 195,
   "id": "5e6a8e4d",
   "metadata": {
    "collapsed": false,
    "jupyter": {
     "outputs_hidden": false
    }
   },
   "outputs": [],
   "source": [
    "class Solver:\n",
    "    def __init__(self, n, method):\n",
    "        self.N = n\n",
    "        self.problem = Problem(n)\n",
    "        self.method = method\n",
    "\n",
    "    def solve(self, render=True):\n",
    "        if render:\n",
    "            import pygame\n",
    "            w, h = 90 * self.n + 10, 90 * self.N + 10\n",
    "            screen = pygame.display.set_mode((w, h))\n",
    "            screen.fill('white')\n",
    "            action_generator = self.method(self.problem)\n",
    "            clk = pygame.time.Clock()\n",
    "            queen_img = pygame.image.load('./queen.png')\n",
    "            while True:\n",
    "                for event in pygame.event.get():\n",
    "                    if event == pygame.QUIT:\n",
    "                        exit()\n",
    "                try:\n",
    "                    actions = next(action_generator)\n",
    "                    screen.fill('white')\n",
    "                    for i in range(self.n + 1):\n",
    "                        pygame.draw.rect(screen, 'black', (i * 90, 0, 10, h))\n",
    "                        pygame.draw.rect(screen, 'black', (0, i * 90, w, 10))\n",
    "                    for action in actions:\n",
    "                        i, j = action\n",
    "                        screen.blit(queen_img, (10 + 90 * j, 10 + 90 * i))\n",
    "                    pygame.display.flip()\n",
    "                except StopIteration:\n",
    "                    pass\n",
    "                clk.tick(5)\n",
    "            pass\n",
    "        else:\n",
    "            start_time = time.time()\n",
    "            for actions in self.method(self.problem):\n",
    "                pass\n",
    "            self.problem.print_state(actions)\n",
    "            print(time.time() - start_time)"
   ]
  },
  {
   "cell_type": "markdown",
   "id": "a48f87d8",
   "metadata": {},
   "source": [
    "# BTS: Backtracking search"
   ]
  },
  {
   "cell_type": "code",
   "execution_count": 197,
   "id": "1f9e8ac1",
   "metadata": {},
   "outputs": [],
   "source": [
    "def bts(problem):\n",
    "    action_stack = []\n",
    "    while not problem.is_satisfy(action_stack):\n",
    "        # TODO: Implement backtracking search logic here\n",
    "        yield action_stack"
   ]
  },
  {
   "cell_type": "markdown",
   "id": "f925203f",
   "metadata": {},
   "source": [
    "# Improving BTS \n",
    "* Which variable should be assigned next?\n",
    "* In what order should its values be tried?\n",
    "* Can we detect inevitable failure early?\n",
    "\n",
    "## Minimum Remaining Value\n",
    "Choose the variable with the fewest legal values in its domain\n",
    "## Least constraining value\n",
    "Given a variable, choose the least constraining value: the one that rules out the fewest values in the remaining variables\n",
    "## Forward checking\n",
    "Keep track of remaining legal values for the unassigned variables. Terminate when any variable has no legal values."
   ]
  },
  {
   "cell_type": "code",
   "execution_count": 199,
   "id": "8f840339",
   "metadata": {},
   "outputs": [],
   "source": [
    "def improving_bts(problem):\n",
    "    action_stack = []\n",
    "    while not problem.is_satisfy(action_stack):\n",
    "        # TODO: Implement improving bts logic here\n",
    "        \n",
    "        yield action_stack  "
   ]
  },
  {
   "cell_type": "markdown",
   "id": "59f83f39",
   "metadata": {
    "collapsed": false,
    "jupyter": {
     "outputs_hidden": false
    }
   },
   "source": [
    "## test block"
   ]
  },
  {
   "cell_type": "code",
   "execution_count": 203,
   "id": "93d2cb99",
   "metadata": {},
   "outputs": [
    {
     "name": "stdout",
     "output_type": "stream",
     "text": [
      "_____________\n",
      "|·|·|·|·|Q|·|\n",
      "|·|·|Q|·|·|·|\n",
      "|Q|·|·|·|·|·|\n",
      "|·|·|·|·|·|Q|\n",
      "|·|·|·|Q|·|·|\n",
      "|·|Q|·|·|·|·|\n",
      "-------------\n",
      "0.0286099910736084\n"
     ]
    }
   ],
   "source": [
    "Solver(n=6, method=bts).solve(render=False)"
   ]
  },
  {
   "cell_type": "code",
   "execution_count": 204,
   "id": "56d694bb-0cfd-4a8f-a9e1-8636fa65d118",
   "metadata": {},
   "outputs": [
    {
     "name": "stdout",
     "output_type": "stream",
     "text": [
      "_________________________________\n",
      "|·|Q|·|·|·|·|·|·|·|·|·|·|·|·|·|·|\n",
      "|·|·|·|·|·|Q|·|·|·|·|·|·|·|·|·|·|\n",
      "|·|·|·|·|·|·|·|·|·|Q|·|·|·|·|·|·|\n",
      "|·|·|·|·|·|·|·|·|·|·|·|·|·|Q|·|·|\n",
      "|·|·|·|Q|·|·|·|·|·|·|·|·|·|·|·|·|\n",
      "|·|·|·|·|·|·|·|Q|·|·|·|·|·|·|·|·|\n",
      "|·|·|·|·|·|·|·|·|·|·|·|Q|·|·|·|·|\n",
      "|·|·|Q|·|·|·|·|·|·|·|·|·|·|·|·|·|\n",
      "|Q|·|·|·|·|·|·|·|·|·|·|·|·|·|·|·|\n",
      "|·|·|·|·|·|·|·|·|·|·|·|·|·|·|·|Q|\n",
      "|·|·|·|·|Q|·|·|·|·|·|·|·|·|·|·|·|\n",
      "|·|·|·|·|·|·|·|·|·|·|·|·|·|·|Q|·|\n",
      "|·|·|·|·|·|·|·|·|Q|·|·|·|·|·|·|·|\n",
      "|·|·|·|·|·|·|·|·|·|·|Q|·|·|·|·|·|\n",
      "|·|·|·|·|·|·|·|·|·|·|·|·|Q|·|·|·|\n",
      "|·|·|·|·|·|·|Q|·|·|·|·|·|·|·|·|·|\n",
      "---------------------------------\n",
      "1.456355094909668\n"
     ]
    }
   ],
   "source": [
    "Solver(n=16, method=improving_bts).solve(render=False)"
   ]
  },
  {
   "cell_type": "code",
   "execution_count": null,
   "id": "4c00ca97-7b79-4ab9-b40a-2a7ea001d463",
   "metadata": {},
   "outputs": [],
   "source": []
  }
 ],
 "metadata": {
  "kernelspec": {
   "display_name": "Python 3 (ipykernel)",
   "language": "python",
   "name": "python3"
  },
  "language_info": {
   "codemirror_mode": {
    "name": "ipython",
    "version": 3
   },
   "file_extension": ".py",
   "mimetype": "text/x-python",
   "name": "python",
   "nbconvert_exporter": "python",
   "pygments_lexer": "ipython3",
   "version": "3.12.7"
  },
  "vscode": {
   "interpreter": {
    "hash": "926f4f342ff63d6917febbc2bc9703c023cf68cb3238c08e97a18f644493fddf"
   }
  }
 },
 "nbformat": 4,
 "nbformat_minor": 5
}
