{
 "cells": [
  {
   "cell_type": "markdown",
   "metadata": {},
   "source": [
    "### Snake: Simulate a snake game and print the game results.\n",
    "\n",
    "You are given a map that ‘x’ represents a rock, ‘-’represents a space, ‘#’represents the body of snake. ‘@’represent the head of the snake and a sequence of actions that ‘0,1,2,3’represent to move to up/down/left/right correspondingly for one step.\n",
    "A greedy snake starts in the map state and moves one step per unit of time according to the sequence of actions until all actions complete or fail. It will fail when the head and the stone overlap, the head goes beyond the boundary, or the head overlaps the body. \n",
    "\n",
    "#### Input\n",
    "A matrix with type char (the map). \n",
    "A sequence with type int (the motions). \n",
    "\n",
    "#### Output\n",
    "the the result of the game:\n",
    "If it failed, output the running time of the game.\n",
    "It it didn’t fail, output the final position of the head (in the form “%d, %d”)."
   ]
  },
  {
   "cell_type": "code",
   "execution_count": null,
   "metadata": {},
   "outputs": [],
   "source": [
    "\"\"\"\n",
    "Example:\n",
    "input:\n",
    "map:\n",
    "---------\n",
    "------x--\n",
    "-x-------\n",
    "---@-----\n",
    "---##----\n",
    "------x--\n",
    "--x----x-\n",
    "-x-------\n",
    "---------\n",
    "action:\n",
    "0 0 3 3 0 3 3 1 1 1 1 1 3 1 1 2 2 2 2 2\n",
    "\n",
    "output:\n",
    "7 3\n",
    "\"\"\""
   ]
  },
  {
   "cell_type": "code",
   "execution_count": null,
   "metadata": {
    "pycharm": {
     "name": "#%%\n"
    }
   },
   "outputs": [],
   "source": [
    "# add your code here\n",
    "def snake_game(game_map, actions):\n",
    "    # find the initial position of the snake\n",
    "    for i in range(len(game_map)):\n",
    "        for j in range(len(game_map[0])):\n",
    "            if game_map[i][j] == '@':\n",
    "                snake_pos = (i, j)\n",
    "                break\n",
    "\n",
    "    # define the direction vectors\n",
    "    directions = {\n",
    "        0: (-1, 0),  # up\n",
    "        1: (0, 1),   # right\n",
    "        2: (1, 0),   # down\n",
    "        3: (0, -1)   # left\n",
    "    }\n",
    "\n",
    "    score = 0\n",
    "\n",
    "    for action in actions:\n",
    "        # calculate the new position of the snake\n",
    "        new_x = snake_pos[0] + directions[action][0]\n",
    "        new_y = snake_pos[1] + directions[action][1]\n",
    "\n",
    "        # check if the new position is out of bounds\n",
    "        if new_x < 0 or new_x >= len(game_map) or new_y < 0 or new_y >= len(game_map[0]):\n",
    "            break\n",
    "\n",
    "        # check if the new position is a wall or the snake itself\n",
    "        if game_map[new_x][new_y] == '#' or game_map[new_x][new_y] == '@':\n",
    "            break\n",
    "\n",
    "        # check if the new position is a food\n",
    "        if game_map[new_x][new_y] == 'x':\n",
    "            score += 1\n",
    "\n",
    "        # update the position of the snake\n",
    "        game_map[snake_pos[0]][snake_pos[1]] = '-'\n",
    "        game_map[new_x][new_y] = '@'\n",
    "        snake_pos = (new_x, new_y)\n",
    "\n",
    "    return score, len(actions) - actions.index(action) - 1 if action in actions else len(actions)\n"
   ]
  },
  {
   "cell_type": "code",
   "execution_count": null,
   "metadata": {
    "pycharm": {
     "name": "#%%\n"
    }
   },
   "outputs": [],
   "source": [
    "# test block, you may need to modify this block.\n",
    "test_case = 4\n",
    "with open(f'test_cases/{test_case}-map.txt', 'r') as f:\n",
    "    game_map = [list(line.strip()) for line in f.readlines()]\n",
    "print(game_map)\n",
    "with open(f'./test_cases/{test_case}-actions.txt', 'r') as f:\n",
    "    actions = [*map(int, f.read().split(' '))]\n",
    "print(actions)\n",
    "\n",
    "print(snake_game(game_map, actions))"
   ]
  }
 ],
 "metadata": {
  "interpreter": {
   "hash": "6eea70d608ba4e65e3b5d32ac8522b4d78d39b471a2766e116e1911c1dde4fb7"
  },
  "kernelspec": {
   "display_name": "Python 3",
   "language": "python",
   "name": "python3"
  },
  "language_info": {
   "codemirror_mode": {
    "name": "ipython",
    "version": 3
   },
   "file_extension": ".py",
   "mimetype": "text/x-python",
   "name": "python",
   "nbconvert_exporter": "python",
   "pygments_lexer": "ipython3",
   "version": "3.8.8"
  }
 },
 "nbformat": 4,
 "nbformat_minor": 1
}
