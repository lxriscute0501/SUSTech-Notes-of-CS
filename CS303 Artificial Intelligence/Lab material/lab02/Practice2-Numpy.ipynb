{
 "cells": [
  {
   "cell_type": "markdown",
   "id": "1e19a4c0-010c-48cd-9255-fe9ced5cb304",
   "metadata": {},
   "source": [
    "# Practice 2 - Numpy\n",
    "Students are required to complete the code implementation for Problems 1-7, and to conduct exploratory analysis for Problems 8 and 9, providing well-reasoned answers to the corresponding questions.\n",
    "\n",
    "                                                                                                      \n",
    "### DDL: Oct.12\n",
    "* The practice will be checked in this lab class or the next lab class before the DDL by teachers or SAs.\n",
    "\n",
    "#### What will be tested: \n",
    "* That you understand every line of your code, not just copy from somewhere \n",
    "* That your program compiles correctly\n",
    "* Correctness of the program logic \n",
    "* That the result is obtained in a reasonable time \n",
    "\n",
    "#### Grading: \n",
    "* Submissions on time: 60-100 points.\n",
    "* Late submissions  : 0 points. "
   ]
  },
  {
   "cell_type": "markdown",
   "id": "519addbe-2d87-4562-98df-47155050a440",
   "metadata": {},
   "source": [
    "**Q1. Create a 10*10 ndarray object, and the matrix boundary value is 1, and the rest are 0.**"
   ]
  },
  {
   "cell_type": "code",
   "execution_count": 77,
   "id": "035382e3",
   "metadata": {},
   "outputs": [
    {
     "name": "stdout",
     "output_type": "stream",
     "text": [
      "[[0. 0. 0. 0. 0. 0. 0. 0. 0. 0.]\n",
      " [0. 1. 1. 1. 1. 1. 1. 1. 1. 0.]\n",
      " [0. 1. 1. 1. 1. 1. 1. 1. 1. 0.]\n",
      " [0. 1. 1. 1. 1. 1. 1. 1. 1. 0.]\n",
      " [0. 1. 1. 1. 1. 1. 1. 1. 1. 0.]\n",
      " [0. 1. 1. 1. 1. 1. 1. 1. 1. 0.]\n",
      " [0. 1. 1. 1. 1. 1. 1. 1. 1. 0.]\n",
      " [0. 1. 1. 1. 1. 1. 1. 1. 1. 0.]\n",
      " [0. 1. 1. 1. 1. 1. 1. 1. 1. 0.]\n",
      " [0. 0. 0. 0. 0. 0. 0. 0. 0. 0.]]\n"
     ]
    }
   ],
   "source": [
    "#1\n",
    "import numpy as np\n",
    "\n",
    "q1 = np.zeros((10, 10))\n",
    "q1[1:-1, 1:-1] = 1\n",
    "print(q1)"
   ]
  },
  {
   "cell_type": "markdown",
   "id": "8d3b3c80",
   "metadata": {},
   "source": [
    "**Q2. Create a 5*5 matrix with each row being 0 to 4.**"
   ]
  },
  {
   "cell_type": "code",
   "execution_count": 78,
   "id": "6c26347e",
   "metadata": {},
   "outputs": [
    {
     "name": "stdout",
     "output_type": "stream",
     "text": [
      "[[0. 1. 2. 3. 4.]\n",
      " [0. 1. 2. 3. 4.]\n",
      " [0. 1. 2. 3. 4.]\n",
      " [0. 1. 2. 3. 4.]\n",
      " [0. 1. 2. 3. 4.]]\n"
     ]
    }
   ],
   "source": [
    "#2\n",
    "q2 = np.zeros((5, 5)) + np.arange(5)\n",
    "print(q2)"
   ]
  },
  {
   "cell_type": "markdown",
   "id": "8b226308",
   "metadata": {},
   "source": [
    "**Q3. Create an 8*8 matrix and fill it with a checkerboard pattern, like [[0,1],[1,0]]).**"
   ]
  },
  {
   "cell_type": "code",
   "execution_count": 79,
   "id": "e83e8494",
   "metadata": {},
   "outputs": [
    {
     "name": "stdout",
     "output_type": "stream",
     "text": [
      "[[0. 1. 0. 1. 0. 1. 0. 1.]\n",
      " [1. 0. 1. 0. 1. 0. 1. 0.]\n",
      " [0. 1. 0. 1. 0. 1. 0. 1.]\n",
      " [1. 0. 1. 0. 1. 0. 1. 0.]\n",
      " [0. 1. 0. 1. 0. 1. 0. 1.]\n",
      " [1. 0. 1. 0. 1. 0. 1. 0.]\n",
      " [0. 1. 0. 1. 0. 1. 0. 1.]\n",
      " [1. 0. 1. 0. 1. 0. 1. 0.]]\n"
     ]
    }
   ],
   "source": [
    "#3\n",
    "arr = np.zeros((8, 8))\n",
    "arr[::2, 1::2] = 1 \n",
    "arr[1::2, ::2] = 1 \n",
    "print(arr)"
   ]
  },
  {
   "cell_type": "markdown",
   "id": "04663245",
   "metadata": {},
   "source": [
    "**Q4. output all the odd numbers in the array [0, 1, 2, 3, 4, 5, 6, 7, 8, 9].**\n",
    "     \n",
    "   in:    arr = np.array([0, 1, 2, 3, 4, 5, 6, 7, 8, 9])  \n",
    "   out:   array([1, 3, 5, 7, 9])  "
   ]
  },
  {
   "cell_type": "code",
   "execution_count": 80,
   "id": "7964df33",
   "metadata": {},
   "outputs": [
    {
     "name": "stdout",
     "output_type": "stream",
     "text": [
      "[1 3 5 7 9]\n"
     ]
    }
   ],
   "source": [
    "#4\n",
    "arr = np.array([0, 1, 2, 3, 4, 5, 6, 7, 8, 9])\n",
    "q4 = arr[arr % 2 == 1]\n",
    "print(q4)"
   ]
  },
  {
   "cell_type": "markdown",
   "id": "fc506104",
   "metadata": {},
   "source": [
    "**Q5. Apply Z-score normalization to a 5×5 random matrix.**"
   ]
  },
  {
   "cell_type": "code",
   "execution_count": 81,
   "id": "972284fd",
   "metadata": {},
   "outputs": [
    {
     "name": "stdout",
     "output_type": "stream",
     "text": [
      "[[ 1.10642812  0.34749147  0.64525871  1.09989482 -0.6827439 ]\n",
      " [-1.60788853  0.47702907 -2.45458891  1.11276645 -0.5901554 ]\n",
      " [-0.44483669  1.5678197  -0.44251588 -0.51145806 -0.57668853]\n",
      " [ 0.74601356  0.77004993  1.35184832  0.81059928 -1.20640184]\n",
      " [-0.26336664 -1.41921571 -0.5102447   0.21222557  0.46267979]]\n"
     ]
    }
   ],
   "source": [
    "#5\n",
    "arr = np.random.random((5, 5))\n",
    "mean = arr.mean()\n",
    "std = arr.std()\n",
    "q5 = (arr - mean) / std\n",
    "print(q5)"
   ]
  },
  {
   "cell_type": "markdown",
   "id": "df87456c",
   "metadata": {},
   "source": [
    "**Q6.Generate a random 10×2 matrix representing Cartesian coordinates, and transform the coordinates into their polar form.**"
   ]
  },
  {
   "cell_type": "code",
   "execution_count": 82,
   "id": "125feb23",
   "metadata": {},
   "outputs": [
    {
     "name": "stdout",
     "output_type": "stream",
     "text": [
      "[[0.37404218 1.32523964]\n",
      " [1.17339178 0.99135212]\n",
      " [1.06841803 0.40497621]\n",
      " [0.73412171 0.90077144]\n",
      " [0.49952148 0.13386772]\n",
      " [0.63548323 0.85424215]\n",
      " [0.8000667  1.56262366]\n",
      " [0.13730421 0.47155105]\n",
      " [0.82570838 1.1368839 ]\n",
      " [1.14011933 0.78612406]]\n"
     ]
    }
   ],
   "source": [
    "#6\n",
    "arr = np.random.random((10, 2))\n",
    "x = arr[:, 0]\n",
    "y = arr[:, 1]\n",
    "r = np.sqrt(x**2 + y**2)\n",
    "theta = np.arctan2(y, x)\n",
    "q6 = np.column_stack((r, theta))\n",
    "print(q6)"
   ]
  },
  {
   "cell_type": "markdown",
   "id": "c1cedf1f",
   "metadata": {},
   "source": [
    "**Q7.Given the vector [1, 2, 3, 4, 5], construct a new vector by inserting three consecutive zeros between each element.**"
   ]
  },
  {
   "cell_type": "code",
   "execution_count": 83,
   "id": "c8a88dfd",
   "metadata": {},
   "outputs": [
    {
     "name": "stdout",
     "output_type": "stream",
     "text": [
      "[1 0 0 0 2 0 0 0 3 0 0 0 4 0 0 0 5]\n"
     ]
    }
   ],
   "source": [
    "#7\n",
    "arr = np.array([1, 2, 3, 4, 5])\n",
    "q7 = np.zeros(len(arr) + (len(arr) - 1) * 3, dtype=arr.dtype)\n",
    "q7[::4] = arr\n",
    "print(q7)"
   ]
  },
  {
   "cell_type": "markdown",
   "id": "c7ea103c",
   "metadata": {},
   "source": [
    "**Q8. What are the result of the following expressions?First guess a result, then print the result, and finally find why.**\n",
    "\n",
    "0 * np.nan\n",
    "\n",
    "np.nan == np.nan\n",
    "\n",
    "np.inf > np.nan\n",
    "\n",
    "np.nan - np.nan\n",
    "\n",
    "np.nan in set([np.nan])\n",
    "\n",
    "0.3 == 3 * 0.1 \n",
    "\n",
    "(hint1:nan means not a number \n",
    "hint2:0.1(10) == 0.0001100110011001100110011001100110011001100110011...(2))\n"
   ]
  },
  {
   "cell_type": "code",
   "execution_count": 84,
   "id": "ee65170c",
   "metadata": {},
   "outputs": [
    {
     "name": "stdout",
     "output_type": "stream",
     "text": [
      "0 * np.nan: nan\n",
      "np.nan == np.nan: False\n",
      "np.inf > np.nan: False\n",
      "np.nan - np.nan: nan\n",
      "np.nan in set([np.nan]): True\n",
      "0.3 == 3 * 0.1: False\n"
     ]
    }
   ],
   "source": [
    "#8\n",
    "print(\"0 * np.nan:\", 0 * np.nan)\n",
    "print(\"np.nan == np.nan:\", np.nan == np.nan)\n",
    "print(\"np.inf > np.nan:\", np.inf > np.nan)\n",
    "print(\"np.nan - np.nan:\", np.nan - np.nan)\n",
    "print(\"np.nan in set([np.nan]):\", np.nan in set([np.nan]))\n",
    "print(\"0.3 == 3 * 0.1:\", 0.3 == 3 * 0.1)"
   ]
  },
  {
   "cell_type": "markdown",
   "id": "7218ef9e",
   "metadata": {},
   "source": [
    "**Q9. What are the result of the following expressions?First guess a result, then print the result, and finally find why.**\n",
    "(Hint: the type of pn.nan is float)\n",
    "\n",
    "np.array(0) / np.array(0)\n",
    "\n",
    "np.array(0) // np.array(0)\n",
    "\n",
    "np.array([np.nan]).astype(int).astype(float)\n",
    "\n",
    "\n"
   ]
  },
  {
   "cell_type": "code",
   "execution_count": 85,
   "id": "cc0b2732",
   "metadata": {},
   "outputs": [
    {
     "name": "stdout",
     "output_type": "stream",
     "text": [
      "np.array(0) / np.array(0): nan\n",
      "np.array(0) // np.array(0): 0\n",
      "np.array([np.nan]).astype(int).astype(float): [0.]\n"
     ]
    },
    {
     "name": "stderr",
     "output_type": "stream",
     "text": [
      "/var/folders/y_/8g0ym9617yz6ss0zzw8x8vc00000gn/T/ipykernel_75462/3834757046.py:2: RuntimeWarning: invalid value encountered in divide\n",
      "  print(\"np.array(0) / np.array(0):\", np.array(0) / np.array(0))\n",
      "/var/folders/y_/8g0ym9617yz6ss0zzw8x8vc00000gn/T/ipykernel_75462/3834757046.py:3: RuntimeWarning: divide by zero encountered in floor_divide\n",
      "  print(\"np.array(0) // np.array(0):\", np.array(0) // np.array(0))\n",
      "/var/folders/y_/8g0ym9617yz6ss0zzw8x8vc00000gn/T/ipykernel_75462/3834757046.py:4: RuntimeWarning: invalid value encountered in cast\n",
      "  print(\"np.array([np.nan]).astype(int).astype(float):\", np.array([np.nan]).astype(int).astype(float))\n"
     ]
    }
   ],
   "source": [
    "#9\n",
    "print(\"np.array(0) / np.array(0):\", np.array(0) / np.array(0))\n",
    "print(\"np.array(0) // np.array(0):\", np.array(0) // np.array(0))\n",
    "print(\"np.array([np.nan]).astype(int).astype(float):\", np.array([np.nan]).astype(int).astype(float))"
   ]
  }
 ],
 "metadata": {
  "kernelspec": {
   "display_name": "Python 3",
   "language": "python",
   "name": "python3"
  },
  "language_info": {
   "codemirror_mode": {
    "name": "ipython",
    "version": 3
   },
   "file_extension": ".py",
   "mimetype": "text/x-python",
   "name": "python",
   "nbconvert_exporter": "python",
   "pygments_lexer": "ipython3",
   "version": "3.12.4"
  }
 },
 "nbformat": 4,
 "nbformat_minor": 5
}
